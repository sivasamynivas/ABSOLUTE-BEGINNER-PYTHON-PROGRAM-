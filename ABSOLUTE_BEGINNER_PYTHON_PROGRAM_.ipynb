{
  "nbformat": 4,
  "nbformat_minor": 0,
  "metadata": {
    "colab": {
      "provenance": [],
      "authorship_tag": "ABX9TyNp9xvGBM35eI4iv54yBAFV",
      "include_colab_link": true
    },
    "kernelspec": {
      "name": "python3",
      "display_name": "Python 3"
    },
    "language_info": {
      "name": "python"
    }
  },
  "cells": [
    {
      "cell_type": "markdown",
      "metadata": {
        "id": "view-in-github",
        "colab_type": "text"
      },
      "source": [
        "<a href=\"https://colab.research.google.com/github/sivasamynivas/ABSOLUTE-BEGINNER-PYTHON-PROGRAM-/blob/main/ABSOLUTE_BEGINNER_PYTHON_PROGRAM_.ipynb\" target=\"_parent\"><img src=\"https://colab.research.google.com/assets/colab-badge.svg\" alt=\"Open In Colab\"/></a>"
      ]
    },
    {
      "cell_type": "markdown",
      "source": [
        "1-You are provided with a number check whether its odd or even. \n",
        "\n",
        "Print \"Odd\" or \"Even\" for the corresponding cases.\n",
        "\n",
        "Note: In case of a decimal, Round off to nearest integer and then find the output. Incase the input is zero, print \"Zero\".\n",
        "\n",
        "Input Description:\n",
        "A number is provided as the input.\n",
        "\n",
        "Output Description:\n",
        "Find out whether the number is odd or even. Print \"Odd\" or \"Even\" for the corresponding cases. Note: In case of a decimal, Round off to nearest integer and then find the output. In case the input is zero, print \"Zero\".\n",
        "\n",
        "Sample Input :\n",
        "2\n",
        "Sample Output :\n",
        "Even"
      ],
      "metadata": {
        "id": "6vQeWMK9DjJa"
      }
    },
    {
      "cell_type": "code",
      "execution_count": null,
      "metadata": {
        "id": "z1-wxpP2DOw4"
      },
      "outputs": [],
      "source": [
        "A=int(input( ))\n",
        "if A==0:\n",
        "  print(\"Zero\")\n",
        "elif A%2==0:\n",
        "  print(\"Even\")\n",
        "else:\n",
        "  print(\"Odd\") \n",
        " "
      ]
    },
    {
      "cell_type": "markdown",
      "source": [
        "2-You are given with a number A i.e. the temperature in Celcius. Write a program to convert this into Fahrenheit. \n",
        "\n",
        "Note: In case of decimal values, round-off to two decimal places.\n",
        "\n",
        "Input Description:\n",
        "A number is provided in Celcius as the input of the program.\n",
        "\n",
        "Output Description:\n",
        "The output shall be the temperature converted into Fahrenheit corresponding to the input value print up to two decimal places and round off if required.\n",
        "\n",
        "Sample Input :\n",
        "12\n",
        "Sample Output :\n",
        "53.60"
      ],
      "metadata": {
        "id": "jk_sWT7sDuGa"
      }
    },
    {
      "cell_type": "code",
      "source": [
        " A=int(input())\n",
        "B=int(input())\n",
        "C=int(input())\n",
        "D=[A,B,C]\n",
        "E=max(D)\n",
        "print(E)"
      ],
      "metadata": {
        "id": "tzd3_9AaD26U"
      },
      "execution_count": null,
      "outputs": []
    },
    {
      "cell_type": "markdown",
      "source": [
        "3-You are given three numbers A, B & C. Print the largest amongst these three numbers.\n",
        "\n",
        "Input Description:\n",
        "Three numbers are provided to you.\n",
        "\n",
        "Output Description:\n",
        "Find and print the largest among the three\n",
        "\n",
        "Sample Input :\n",
        "1\n",
        "2\n",
        "3\n",
        "Sample Output :\n",
        "3"
      ],
      "metadata": {
        "id": "d4YFpRQJEJQt"
      }
    },
    {
      "cell_type": "code",
      "source": [
        "A=int(input())\n",
        "B=int(input())\n",
        "C=int(input())\n",
        "D=[A,B,C]\n",
        "E=max(D)\n",
        "print(E)"
      ],
      "metadata": {
        "id": "H3coTM0RECZg"
      },
      "execution_count": null,
      "outputs": []
    },
    {
      "cell_type": "markdown",
      "source": [
        "4-You are given A = Length of a rectangle & B = breadth of a rectangle. Find its area “C”.\n",
        "\n",
        "(A and B are natural numbers)\n",
        "\n",
        "Input Description:\n",
        "The inputs are two natural numbers representing the length and the breadth of a rectangle.\n",
        "\n",
        "Output Description:\n",
        "Find the area of the rectangle formed by the provided input. Round off the answer to the first decimal place if required.\n",
        "\n",
        "Sample Input :\n",
        "2\n",
        "3\n",
        "Sample Output :\n",
        "6\n"
      ],
      "metadata": {
        "id": "gAI8gk98EUYd"
      }
    },
    {
      "cell_type": "code",
      "source": [
        "A=float(input())\n",
        "B=float(input())\n",
        "C=A*B\n",
        "D=round(C,1)\n",
        "print(D)"
      ],
      "metadata": {
        "id": "8jm35ibPEBPt"
      },
      "execution_count": null,
      "outputs": []
    },
    {
      "cell_type": "markdown",
      "source": [
        "5-You are provided with two numbers. Find and print the smaller number.\n",
        "\n",
        "Input Description:\n",
        "You are provided with two numbers as input.\n",
        "\n",
        "Output Description:\n",
        "Print the small number out of the two numbers.\n",
        "\n",
        "Sample Input :\n",
        "23 1\n",
        "Sample Output :\n",
        "1"
      ],
      "metadata": {
        "id": "Pt7YuFNYEs3z"
      }
    },
    {
      "cell_type": "code",
      "source": [
        "A,B=list(map(int,input().split()))\n",
        "print(min(A,B))"
      ],
      "metadata": {
        "id": "-IHGHWQzE5cE"
      },
      "execution_count": null,
      "outputs": []
    },
    {
      "cell_type": "markdown",
      "source": [
        "6-You are given with a number \"N\", find its cube.\n",
        "\n",
        "Input Description:\n",
        "A positive integer is provided.\n",
        "\n",
        "Output Description:\n",
        "Find the cube of the number.\n",
        "\n",
        "Sample Input :\n",
        "2\n",
        "Sample Output :\n",
        "8"
      ],
      "metadata": {
        "id": "MylWuyeaFAx8"
      }
    },
    {
      "cell_type": "code",
      "source": [
        "A=int(input())\n",
        "B=A\n",
        "C=B\n",
        "D=A*B*C\n",
        "print(D)"
      ],
      "metadata": {
        "id": "0x8CRuFsFE15"
      },
      "execution_count": null,
      "outputs": []
    },
    {
      "cell_type": "markdown",
      "source": [
        "7-You are given Two Numbers, A and B. If C = A + B. Find C.\n",
        "\n",
        "Note: Round off the output to a single decimal place.\n",
        "\n",
        "Input Description:\n",
        "You are provided with two numbers A and B.\n",
        "\n",
        "Output Description:\n",
        "Find the sum of the two numbers (A + B)\n",
        "\n",
        "Sample Input :\n",
        "1\n",
        "1\n",
        "Sample Output :\n",
        "2"
      ],
      "metadata": {
        "id": "9K_k3wtvFSrm"
      }
    },
    {
      "cell_type": "code",
      "source": [
        "A=int(input())\n",
        "B=int(input())\n",
        "C=A+B\n",
        "print(C)"
      ],
      "metadata": {
        "id": "zURbVgaDFW5N"
      },
      "execution_count": null,
      "outputs": []
    },
    {
      "cell_type": "markdown",
      "source": [
        "8-You are provided with a number, \"N\". Find its factorial.\n",
        "\n",
        "Input Description:\n",
        "A positive integer is provided as an input.\n",
        "\n",
        "Output Description:\n",
        "Print the factorial of the integer.\n",
        "\n",
        "Sample Input :\n",
        "2\n",
        "Sample Output :\n",
        "2"
      ],
      "metadata": {
        "id": "bW8LWJpnFdq6"
      }
    },
    {
      "cell_type": "code",
      "source": [
        "import math\n",
        "def fact(n):\n",
        "  return(math.factorial(n))\n",
        "n=int(input())\n",
        "f=fact(n)\n",
        "print(f)"
      ],
      "metadata": {
        "id": "lzg_Bot5F43u"
      },
      "execution_count": null,
      "outputs": []
    },
    {
      "cell_type": "markdown",
      "source": [
        "9-You are given a number A in Kilometers. Convert this into B: Meters and C: Centi-Metres.\n",
        "\n",
        "Input Description:\n",
        "A number \"A\" representing some distance in kilometer is provided to you as the input.\n",
        "\n",
        "Output Description:\n",
        "Convert and print this value in meters and centimeters.\n",
        "\n",
        "Sample Input :\n",
        "2\n",
        "Sample Output :\n",
        "2000\n",
        "200000"
      ],
      "metadata": {
        "id": "y4igbElJGMHP"
      }
    },
    {
      "cell_type": "code",
      "source": [
        "A=int(input())\n",
        "B=A*1000\n",
        "C=B*100\n",
        "print(B)\n",
        "print(C)"
      ],
      "metadata": {
        "id": "JqV1vcTtF8RY"
      },
      "execution_count": null,
      "outputs": []
    },
    {
      "cell_type": "markdown",
      "source": [
        "10-Let \"A\"  be a string. Remove all the whitespaces and find it's length.\n",
        "\n",
        "Input Description:\n",
        "A string is provide as an input\n",
        "\n",
        "Output Description:\n",
        "Remove all the whitespaces and then print the length of the remaining string.\n",
        "\n",
        "Sample Input :\n",
        "Lorem Ipsum\n",
        "Sample Output :\n",
        "10"
      ],
      "metadata": {
        "id": "2hyjlX9qGQYC"
      }
    },
    {
      "cell_type": "code",
      "source": [
        "import re\n",
        "A=input()\n",
        "B=re.sub(r'\\s+','',A)\n",
        "C=len(B)\n",
        "print(C)"
      ],
      "metadata": {
        "id": "LU8yTj5_GJIO"
      },
      "execution_count": null,
      "outputs": []
    },
    {
      "cell_type": "markdown",
      "source": [
        "11-You are given with Principle amount($), Interest Rate(%) and Time (years) in that order. Find Simple Interest.\n",
        "\n",
        "Print the output up to two decimal places (Round-off if necessary).\n",
        "\n",
        "(S.I. = P*T*R/100)\n",
        "\n",
        "Input Description:\n",
        "Three values are given to you as the input. these values correspond to Principle amount, Interest Rate and Time in that particular order.\n",
        "\n",
        "Output Description:\n",
        "Find the Simple interest and print it up to two decimal places. Round off if required.\n",
        "\n",
        "Sample Input :\n",
        "1000 2 5\n",
        "Sample Output :\n",
        "100.00"
      ],
      "metadata": {
        "id": "XojwTbQPGnqf"
      }
    },
    {
      "cell_type": "code",
      "source": [
        "A,B,C=list(map(float,input().split()))\n",
        "D=A*B*C\n",
        "E=D/100\n",
        "F=round(E,2)\n",
        "print(F)\n"
      ],
      "metadata": {
        "id": "pImp1jXiGa4R"
      },
      "execution_count": null,
      "outputs": []
    },
    {
      "cell_type": "markdown",
      "source": [
        "12-You are given the coefficients of a quadratic equation in order A, B & C.\n",
        "\n",
        "Where A is the coefficient of X2,  B is the coefficient of X and C is the constant term in the most simplified form.\n",
        "\n",
        "Example: For  X2 + 5X + 6 = 0, you are given the input as: 1 5 6.\n",
        "\n",
        "Write a program to find all of the roots of the quadratic.\n",
        "\n",
        "Note: The output should be up to 2nd decimal place (round off if needed) and in case of a recurring decimal use braces i.e. for eg: 0.33333..... => 0.33.\n",
        "\n",
        "Note: Use Shri Dharacharya's Method to solve i.e. X = {-b + √(b² - 4ac) } / 2a & {-b-√(b² -4ac)} / 2a\n",
        "\n",
        "Input Description:\n",
        "Three numbers corresponding to the coefficients of x(squared), x and constant are given as an input in that particular order\n",
        "\n",
        "Output Description:\n",
        "Print the two values of X after rounding off to 2 decimal places if required.\n",
        "\n",
        "Sample Input :\n",
        "1 5 6\n",
        "Sample Output :\n",
        "-2.00\n",
        "-3.00"
      ],
      "metadata": {
        "id": "B0uSlNlVGsGb"
      }
    },
    {
      "cell_type": "code",
      "source": [
        "import math \n",
        "A,B,C=list(map(int,input().split()))\n",
        "D=B*B\n",
        "E=4*A*C\n",
        "F=D-E\n",
        "G=math.sqrt(F)\n",
        "H=-B+G\n",
        "L=2*A\n",
        "I=H/L\n",
        "J=-B-G\n",
        "K=J/L\n",
        "print(\"%.2f\"%I)\n",
        "print(\"%.2f\"%K)\n"
      ],
      "metadata": {
        "id": "p8cL5KSKHEjk"
      },
      "execution_count": null,
      "outputs": []
    },
    {
      "cell_type": "markdown",
      "source": [
        "13-Write a code to get an integer N and print values from 1 till N in a separate line.\n",
        "\n",
        "Input Description:\n",
        "A single line contains an integer N.\n",
        "\n",
        "Output Description:\n",
        "Print the values from 1 to N in a separate line.\n",
        "\n",
        "Sample Input :\n",
        "5\n",
        "Sample Output :\n",
        "1\n",
        "2\n",
        "3\n",
        "4\n",
        "5"
      ],
      "metadata": {
        "id": "BkGqo3EMHNuB"
      }
    },
    {
      "cell_type": "code",
      "source": [
        "A=int(input())\n",
        "I=1\n",
        "while I<=A:\n",
        "  print(I)\n",
        "  I=I+1"
      ],
      "metadata": {
        "id": "jZuZP98hHSKy"
      },
      "execution_count": null,
      "outputs": []
    },
    {
      "cell_type": "markdown",
      "source": [
        "14-Print the First 3 multiples of the given number \"N\". (N is a positive integer)\n",
        "\n",
        "Note: print the characters with a single space between them.\n",
        "\n",
        "Input Description:\n",
        "A positive integer is provided to you as an input.\n",
        "\n",
        "Output Description:\n",
        "Print the First 3 multiples of the number with single spaces between them as an output.\n",
        "\n",
        "Sample Input :\n",
        "2\n",
        "Sample Output :\n",
        "2 4 6\n"
      ],
      "metadata": {
        "id": "zI16U0O4Hel4"
      }
    },
    {
      "cell_type": "code",
      "source": [
        "A=int(input())\n",
        "B=A*1\n",
        "C=A*2\n",
        "D=A*3\n",
        "print(B,C,D)"
      ],
      "metadata": {
        "id": "9byOLwhYHlJd"
      },
      "execution_count": null,
      "outputs": []
    },
    {
      "cell_type": "markdown",
      "source": [
        "15-Let \"A\" be a year, write a program to check whether this year is a leap year or not.\n",
        "\n",
        "Print \"Y\" if its a leap year and \"N\" if its a common year.\n",
        "\n",
        "Input Description:\n",
        "A Year is the input in the form of a positive integer.\n",
        "\n",
        "Output Description:\n",
        "Print \"Y\" if its a leap year and \"N\" if its a common year.\n",
        "\n",
        "Sample Input :\n",
        "2020\n",
        "Sample Output :\n",
        "Y"
      ],
      "metadata": {
        "id": "3xaimmPNHpIY"
      }
    },
    {
      "cell_type": "code",
      "source": [
        "A=int(input())\n",
        "if A%4==0:\n",
        "  print(\"Y\")\n",
        "else:\n",
        "  print(\"N\")"
      ],
      "metadata": {
        "id": "BepvGHUZHu_Z"
      },
      "execution_count": null,
      "outputs": []
    },
    {
      "cell_type": "markdown",
      "source": [
        "16-Write a code to get an integer N and print the even values from 1 till N in a separate line.\n",
        "\n",
        "Input Description:\n",
        "A single line contains an integer N.\n",
        "\n",
        "Output Description:\n",
        "Print the even values from 1 to N in a separate line.\n",
        "\n",
        "Sample Input :\n",
        "6\n",
        "Sample Output :\n",
        "2\n",
        "4\n",
        "6"
      ],
      "metadata": {
        "id": "uL9unFVJHx5H"
      }
    },
    {
      "cell_type": "code",
      "source": [
        "N=int(input())\n",
        "for i in range(2,N+1,2):\n",
        "  print(i,end=\"\\n\")"
      ],
      "metadata": {
        "id": "32Bv0sbAH4O7"
      },
      "execution_count": null,
      "outputs": []
    },
    {
      "cell_type": "markdown",
      "source": [
        "17-The area of an equilateral triangle is ¼(√3a2) where \"a\" represents a side of the triangle. You are provided with the side \"a\". Find the area of the equilateral triangle.\n",
        "\n",
        "Input Description:\n",
        "The side of an equilateral triangle is provided as the input.\n",
        "\n",
        "Output Description:\n",
        "Find the area of the equilateral triangle and print the answer up to 2 decimal places after rounding off.\n",
        "\n",
        "Sample Input :\n",
        "20\n",
        "Sample Output :\n",
        "173.21"
      ],
      "metadata": {
        "id": "MGFzldFdH7Qw"
      }
    },
    {
      "cell_type": "code",
      "source": [
        "A=int(input())\n",
        "B=A*A\n",
        "C=((1.73205/4)*B)\n",
        "D=(round(C,2))\n",
        "print(D)"
      ],
      "metadata": {
        "id": "I9v1xTnYIRiw"
      },
      "execution_count": null,
      "outputs": []
    },
    {
      "cell_type": "markdown",
      "source": [
        "18-Write a code to get an integer N and print the digits of the integer.\n",
        "\n",
        "Input Description:\n",
        "A single line contains an integer N.\n",
        "\n",
        "Output Description:\n",
        "Print the digits of the integer in a single line separated by space,\n",
        "\n",
        "Sample Input :\n",
        "348\n",
        "Sample Output :\n",
        "3 4 8"
      ],
      "metadata": {
        "id": "1xz2KMyYIUvY"
      }
    },
    {
      "cell_type": "code",
      "source": [
        "n=int(input())\n",
        "s=str(n)\n",
        "a=(\" \".join(s))\n",
        "print(a)"
      ],
      "metadata": {
        "id": "ByUlwKARIZ6u"
      },
      "execution_count": null,
      "outputs": []
    },
    {
      "cell_type": "markdown",
      "source": [
        "19-You are provided with a number \"N\", Find the Nth term of the series: 1, 4, 9, 16, 25, 36, 49, 64, 81, .......\n",
        "\n",
        "(Print \"Error\" if N = negative value and 0 if N = 0).\n",
        "\n",
        "Input Description:\n",
        "An integer N is provided to you as the input.\n",
        "\n",
        "Output Description:\n",
        "Find the Nth term in the provided series.\n",
        "\n",
        "Sample Input :\n",
        "18\n",
        "Sample Output :\n",
        "324"
      ],
      "metadata": {
        "id": "0LaxvN30JArY"
      }
    },
    {
      "cell_type": "code",
      "source": [
        "N=int(input())\n",
        "if N<0:\n",
        "    print(\"ERROR\")\n",
        "elif N==0:\n",
        "     print(\"0\")\n",
        "else:\n",
        "    print(N**2)\n",
        "    "
      ],
      "metadata": {
        "id": "oNmPZxQ5JNTX"
      },
      "execution_count": null,
      "outputs": []
    },
    {
      "cell_type": "markdown",
      "source": [
        "20-Write a code to get 2 integers A and N. Print the integer A, N times in separate line.\n",
        "\n",
        "Input Description:\n",
        "First line contains an integer A. Second line contains an Integer N.\n",
        "\n",
        "Output Description:\n",
        "Print the integer A, N times in a separate line.\n",
        "\n",
        "Sample Input :\n",
        "2 3\n",
        "Sample Output :\n",
        "2\n",
        "2\n",
        "2"
      ],
      "metadata": {
        "id": "ecjbnPICJRKu"
      }
    },
    {
      "cell_type": "code",
      "source": [
        "A,N=list(map(int,input().split()))\n",
        "I=1\n",
        "while I<=N:\n",
        "  print(A)\n",
        "  I=I+1"
      ],
      "metadata": {
        "id": "aLMy9RflJXJ6"
      },
      "execution_count": null,
      "outputs": []
    },
    {
      "cell_type": "markdown",
      "source": [
        "21-Write a code get an integer number as input and print the odd and even digits of the number separately.\n",
        "\n",
        "Input Description:\n",
        "A single line containing an integer.\n",
        "\n",
        "Output Description:\n",
        "Print the even and odd integers of the integer in a separate line.\n",
        "\n",
        "Sample Input :\n",
        "1234\n",
        "Sample Output :\n",
        "2 4\n",
        "1 3"
      ],
      "metadata": {
        "id": "nD_Gb82iJahh"
      }
    },
    {
      "cell_type": "code",
      "source": [
        "n=input()\n",
        "s=str(n)\n",
        "c=list(s)\n",
        "e=sorted(c)\n",
        "d=[int(i) for i in e]\n",
        "even=[]\n",
        "odd=[]\n",
        "for i in d:\n",
        "  if i%2==0:\n",
        "    even.append(i)\n",
        "for i in d:\n",
        "  if i%2!=0:\n",
        "    odd.append(i)\n",
        "print(*sorted(even))\n",
        "print(*sorted(odd))"
      ],
      "metadata": {
        "id": "xd5qoWnZJfen"
      },
      "execution_count": null,
      "outputs": []
    },
    {
      "cell_type": "markdown",
      "source": [
        "22-You are provided with the radius of a circle \"A\". Find the length of its circumference.\n",
        "\n",
        "Note: In case the output is coming in decimal, roundoff to 2nd decimal place. In case the input is a negative number, print \"Error\".\n",
        "\n",
        "Input Description:\n",
        "The Radius of a circle is provided as the input of the program.\n",
        "\n",
        "Output Description:\n",
        "Calculate and print the Circumference of the circle corresponding to the input radius up to two decimal places.\n",
        "\n",
        "Sample Input :\n",
        "2\n",
        "Sample Output :\n",
        "12.57\n"
      ],
      "metadata": {
        "id": "Ztz9xso6JiwD"
      }
    },
    {
      "cell_type": "code",
      "source": [
        "A=float(input())\n",
        "if A>0:\n",
        "  B=2*3.1415*A\n",
        "  C=round(B,2)\n",
        "  print(C)\n",
        "else:\n",
        "  print(\"Error\")"
      ],
      "metadata": {
        "id": "Fah_--dHJoAs"
      },
      "execution_count": null,
      "outputs": []
    },
    {
      "cell_type": "markdown",
      "source": [
        "23-Write a code to get the input and print it 5 times.\n",
        "\n",
        "Input Description:\n",
        "A single line contains an integer N.\n",
        "\n",
        "Output Description:\n",
        "Output contains 5 lines with each line having the value N.\n",
        "\n",
        "Sample Input :\n",
        "4\n",
        "Sample Output :\n",
        "4\n",
        "4\n",
        "4\n",
        "4\n",
        "4"
      ],
      "metadata": {
        "id": "dnNbCvY_J50_"
      }
    },
    {
      "cell_type": "code",
      "source": [
        "A=int(input())\n",
        "i=1\n",
        "while i<=5:\n",
        "  print(A)\n",
        "  i=i+1"
      ],
      "metadata": {
        "id": "mG4Mcw2aKHoz"
      },
      "execution_count": null,
      "outputs": []
    },
    {
      "cell_type": "markdown",
      "source": [
        "24-Write a code to get an integer N and print the values from N to 1.\n",
        "\n",
        "Input Description:\n",
        "A single line contains an integer N.\n",
        "\n",
        "Output Description:\n",
        "Print the values from N to 1 in a separate line.\n",
        "\n",
        "Sample Input :\n",
        "10\n",
        "Sample Output :\n",
        "10\n",
        "9\n",
        "8\n",
        "7\n",
        "6\n",
        "5\n",
        "4\n",
        "3\n",
        "2\n",
        "1"
      ],
      "metadata": {
        "id": "OkNFJOWJKJ9x"
      }
    },
    {
      "cell_type": "code",
      "source": [
        "N=int(input())\n",
        "for i in range(N,0,-1):\n",
        "    print(i)"
      ],
      "metadata": {
        "id": "sWZsF6ZzK14J"
      },
      "execution_count": null,
      "outputs": []
    },
    {
      "cell_type": "markdown",
      "source": [
        "25-Write a program to get a string as input and reverse the string without using temporary variable.\n",
        "\n",
        "Input Description:\n",
        "A single line containing a string.\n",
        "\n",
        "Output Description:\n",
        "Print the reversed string.\n",
        "\n",
        "Sample Input :\n",
        "GUVI\n",
        "Sample Output :\n",
        "IVUG"
      ],
      "metadata": {
        "id": "ap2vLqvBK8KS"
      }
    },
    {
      "cell_type": "code",
      "source": [
        "A=input()\n",
        "print(A[: :-1])"
      ],
      "metadata": {
        "id": "LH6Hd5ZNLCKX"
      },
      "execution_count": null,
      "outputs": []
    },
    {
      "cell_type": "markdown",
      "source": [
        "26-You will be provided with a number. Print the number of days in the month corresponding to that number.\n",
        "\n",
        "Note: In case the input is February, print 28 days. If the Input is not in valid range print \"Error\".\n",
        "\n",
        "Input Description:\n",
        "The input is in the form of a number.\n",
        "\n",
        "Output Description:\n",
        "Find the days in the month corresponding to the input number. Print Error if the input is not in a valid range.\n",
        "\n",
        "Sample Input :\n",
        "8\n",
        "Sample Output :\n",
        "31\n"
      ],
      "metadata": {
        "id": "Lc_SVFtRLGED"
      }
    },
    {
      "cell_type": "code",
      "source": [
        "A=int(input())\n",
        "if A==0:\n",
        "  print(\"Error\")\n",
        "if A==1:\n",
        "  print(\"31\")\n",
        "if A==2:\n",
        "  print(\"28\")\n",
        "if A==3:\n",
        "  print(\"31\")\n",
        "if A==4:\n",
        "  print(\"30\")\n",
        "if A==5:\n",
        "  print(\"31\")\n",
        "if A==6:\n",
        "  print(\"30\")\n",
        "if A==7:\n",
        "  print(\"31\")\n",
        "if A==8:\n",
        "  print(\"31\")\n",
        "if A==9:\n",
        "  print(\"30\")\n",
        "if A==10:\n",
        "  print(\"31\")\n",
        "if A==11:\n",
        "  print(\"30\")\n",
        "if A==12:\n",
        "  print(\"31\")\n",
        "if A>12:\n",
        "  print(\"Error\")"
      ],
      "metadata": {
        "id": "K4vkahR6L3s0"
      },
      "execution_count": null,
      "outputs": []
    },
    {
      "cell_type": "markdown",
      "source": [
        "27-Write a code to get 2 integers as input and find the HCF of the 2 integer without using recursion or Euclidean algorithm.\n",
        "\n",
        "Input Description:\n",
        "A single line containing 2 integers separated by space.\n",
        "\n",
        "Output Description:\n",
        "Print the HCF of the integers.\n",
        "\n",
        "Sample Input :\n",
        "2 3\n",
        "Sample Output :\n",
        "1"
      ],
      "metadata": {
        "id": "zURFgHCnL8E8"
      }
    },
    {
      "cell_type": "code",
      "source": [
        "x,y=map(int,input().split())\n",
        "if x>y:\n",
        "    smaller=y\n",
        "else:\n",
        "    smaller=x\n",
        "for i in range(1,smaller+1):\n",
        "    if ((x%i==0)and(y%i==0)):\n",
        "        hcf=i\n",
        "print(hcf)"
      ],
      "metadata": {
        "id": "UG9ovu6sMGPu"
      },
      "execution_count": null,
      "outputs": []
    },
    {
      "cell_type": "markdown",
      "source": [
        "28-Write a code to get an integer N and print the sum of  values from 1 to N.\n",
        "\n",
        "Input Description:\n",
        "A single line contains an integer N.\n",
        "\n",
        "Output Description:\n",
        "Print the sum of values from 1 to N.\n",
        "\n",
        "Sample Input :\n",
        "10\n",
        "Sample Output :\n",
        "55"
      ],
      "metadata": {
        "id": "6COwcUenMISo"
      }
    },
    {
      "cell_type": "code",
      "source": [
        "n=int(input())\n",
        "a=[]\n",
        "for i in range(1,n+1):\n",
        "    a.append(i)\n",
        "b=sum(a)\n",
        "print(b)"
      ],
      "metadata": {
        "id": "YUK9cpRqMNbY"
      },
      "execution_count": null,
      "outputs": []
    },
    {
      "cell_type": "markdown",
      "source": [
        "29-Write a code get an integer number as input and print the sum of the digits.\n",
        "\n",
        "Input Description:\n",
        "A single line containing an integer.\n",
        "\n",
        "Output Description:\n",
        "Print the sum of the digits of the integer.\n",
        "\n",
        "Sample Input :\n",
        "124\n",
        "Sample Output :\n",
        "7"
      ],
      "metadata": {
        "id": "XpkhiT0JMQz9"
      }
    },
    {
      "cell_type": "code",
      "source": [
        "def getSum(n):\n",
        "    \n",
        "    sum = 0\n",
        "    for digit in str(n): \n",
        "      sum += int(digit)      \n",
        "    return sum\n",
        "   \n",
        "n=int(input())\n",
        "print(getSum(n))"
      ],
      "metadata": {
        "id": "zCNk2r0rMVvt"
      },
      "execution_count": null,
      "outputs": []
    },
    {
      "cell_type": "markdown",
      "source": [
        "30-Using the method of looping, write a program to print the table of 9 till N in the format as follows:\n",
        "(N is input by the user)\n",
        "\n",
        "9 18 27...\n",
        "\n",
        "Print NULL if 0 is input\n",
        "\n",
        "Input Description:\n",
        "A positive integer is provided as an input.\n",
        "\n",
        "Output Description:\n",
        "Print the table of nine with single space between the elements till the number that is input.\n",
        "\n",
        "Sample Input :\n",
        "3\n",
        "Sample Output :\n",
        "9 18 27\n"
      ],
      "metadata": {
        "id": "6-HozBT9MZXd"
      }
    },
    {
      "cell_type": "code",
      "source": [
        "N=int(input())\n",
        "A=[]\n",
        "if N==0:\n",
        "  print(\"NULL\")\n",
        "else:\n",
        "  for i in range(1,N+1):\n",
        "    A.append(i*9)\n",
        "print(*A)\n"
      ],
      "metadata": {
        "id": "op8HLYRBMecR"
      },
      "execution_count": null,
      "outputs": []
    }
  ]
}